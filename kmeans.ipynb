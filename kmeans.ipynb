{
 "cells": [
  {
   "cell_type": "code",
   "execution_count": 2,
   "metadata": {
    "collapsed": false
   },
   "outputs": [],
   "source": [
    "import sys\n",
    "from collections import defaultdict\n",
    "import random\n",
    "import numpy as np\n",
    "import matplotlib.pyplot as plt\n",
    "\n",
    "# data column\n",
    "# sepal(꽃받침) length, sepal width, petal(꽃잎) length, petal width, species\n",
    "\n",
    "def load_iris_data():\n",
    "\tfeatures = list()\n",
    "\tlabels = list()\n",
    "\twith open(\"rawData/iris.data.txt\", \"r\") as f:\n",
    "\t\tfor line in f:\n",
    "\t\t\tline = line.strip()\n",
    "\t\t\tif line:\n",
    "\t\t\t\tfeatures.append(tuple(line.split(',')[:-1]))\n",
    "\t\t\t\tlabels.append(line.split(',')[-1])\n",
    "\t\n",
    "\treturn dict(zip(features, labels))\n",
    "dataset = load_iris_data()\n",
    "\n",
    "# for k, v in dataset.items():\n",
    "# \tprint(\"key: {0}, val: {1}\".format(k, v))"
   ]
  },
  {
   "cell_type": "code",
   "execution_count": 3,
   "metadata": {
    "collapsed": false
   },
   "outputs": [
    {
     "name": "stdout",
     "output_type": "stream",
     "text": [
      "(147, 4)\n"
     ]
    },
    {
     "data": {
      "image/png": "[encoded data removed]",
      "text/plain": [
       "<matplotlib.figure.Figure at 0x10edf9ba8>"
      ]
     },
     "metadata": {},
     "output_type": "display_data"
    }
   ],
   "source": [
    "# sepal(꽃받침) length, sepal width, petal(꽃잎) length, petal width, species\n",
    "\n",
    "dataset = load_iris_data()\n",
    "\n",
    "features = np.array(list(dataset.keys()), dtype=np.float_)\n",
    "labels = np.array(list(dataset.values()), dtype=np.str_)\n",
    "print(features.shape)\n",
    "#print(labels[0])\n",
    "\n",
    "\n",
    "#plt.matshow(data)\n",
    "fig = plt.figure(figsize=(9,3))\n",
    "\n",
    "# subplot nki = nxk 그리드중 i번째\n",
    "# ex) 120 => 1x2 그리드에 0번째\n",
    "#       123 => 안됨\n",
    "# https://matplotlib.org/api/figure_api.html\n",
    "\n",
    "ax1 = fig.add_subplot(121)\n",
    "ax1.scatter(np.array(features[:,0]), np.array(features[:,1]))\n",
    "ax1.set_title('Sepal size from Iris dataset', fontsize=14)\n",
    "ax1.set_xlabel('Sepal length (cm)')\n",
    "ax1.set_ylabel('Sepal width (cm)')\n",
    "\n",
    "ax2 = fig.add_subplot(122)\n",
    "ax2.scatter(np.array(features[:,2]), np.array(features[:,3]) )\n",
    "ax2.set_title('Petal size from Iris dataset', fontsize=14)\n",
    "ax2.set_xlabel('Petal length (cm)')\n",
    "ax2.set_ylabel('Petal width (cm)')\n",
    "\n",
    "# https://matplotlib.org/users/tight_layout_guide.html\n",
    "plt.tight_layout()\n",
    "plt.show()"
   ]
  },
  {
   "cell_type": "markdown",
   "metadata": {},
   "source": [
    "#### sepal(꽃받침) length, sepal width, petal(꽃잎) length, petal width, species\n",
    "##### 1. 중심좌표를 임의로 정한다\n",
    "##### 2. 정해진 중심좌표를 기준으로 각 데이터가 자신과 가장 가까운 값으로 군집 형성\n",
    "##### 3. k개의 군집이 형성되고, 각 feature들의 평균값으로 중심점을 옮긴다.\n",
    "##### 4. 중심좌표가 움직이지 않을때까지 2,3번을 반복"
   ]
  },
  {
   "cell_type": "markdown",
   "metadata": {},
   "source": [
    "\n"
   ]
  },
  {
   "cell_type": "code",
   "execution_count": 5,
   "metadata": {},
   "outputs": [
    {
     "name": "stdout",
     "output_type": "stream",
     "text": [
      "6.78232998313\n"
     ]
    }
   ],
   "source": [
    "# sepal(꽃받침) length, sepal width, petal(꽃잎) length, petal width, species\n",
    "def getSeed():\n",
    "\t\n",
    "\treturn np.array([random.randrange(0.0, 8.0),\n",
    "\t                    random.randrange(0.0, 8.0),\n",
    "\t                    random.randrange(0.0, 8.0),\n",
    "\t                    random.randrange(0.0, 8.0)],\n",
    "\t                np.float_)\n",
    "\n",
    "def dist2(np_f1, np_f2):\n",
    "\treturn np.sqrt(np.dot(np_f1 - np_f2, np_f1 - np_f2))\n",
    "\n",
    "\n",
    "# center는 np.array k*4\n",
    "def assign(centers, features):\n",
    "\tfor feat in features:\n",
    "\t\tbest = min(centers, key=lambda c: dist2(x,c))\n",
    "\n",
    "def kmeans(features, k, maxiter = 100):\n",
    "\t\n",
    "\t\n",
    "t1 = getSeed()\n",
    "t2 = getSeed()\n",
    "\n",
    "print(dist2(t1, t2))"
   ]
  },
  {
   "cell_type": "code",
   "execution_count": null,
   "metadata": {},
   "outputs": [],
   "source": [
    ""
   ]
  }
 ],
 "metadata": {
  "kernelspec": {
   "display_name": "Python 2",
   "language": "python",
   "name": "python2"
  },
  "language_info": {
   "codemirror_mode": {
    "name": "ipython",
    "version": 2.0
   },
   "file_extension": ".py",
   "mimetype": "text/x-python",
   "name": "python",
   "nbconvert_exporter": "python",
   "pygments_lexer": "ipython2",
   "version": "2.7.6"
  }
 },
 "nbformat": 4,
 "nbformat_minor": 0
}